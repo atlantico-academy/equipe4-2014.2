{
 "cells": [
  {
   "cell_type": "code",
   "execution_count": 1,
   "id": "fdc1370d-d3c0-4829-9232-6144a4cc1860",
   "metadata": {
    "tags": []
   },
   "outputs": [],
   "source": [
    "import pandas as pd"
   ]
  },
  {
   "cell_type": "code",
   "execution_count": null,
   "id": "810481c8-90f3-4daa-a7ee-6c53c80dc1d3",
   "metadata": {},
   "outputs": [],
   "source": [
    "dicionario = pd.DataFrame([\n",
    "    {\n",
    "    \n",
    "    }\n",
    "\n",
    "])"
   ]
  }
 ],
 "metadata": {
  "kernelspec": {
   "display_name": "Python 3 (ipykernel)",
   "language": "python",
   "name": "python3"
  },
  "language_info": {
   "codemirror_mode": {
    "name": "ipython",
    "version": 3
   },
   "file_extension": ".py",
   "mimetype": "text/x-python",
   "name": "python",
   "nbconvert_exporter": "python",
   "pygments_lexer": "ipython3",
   "version": "3.10.11"
  }
 },
 "nbformat": 4,
 "nbformat_minor": 5
}
